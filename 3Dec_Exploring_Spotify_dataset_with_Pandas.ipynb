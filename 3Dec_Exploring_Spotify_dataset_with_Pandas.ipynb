{
  "cells": [
    {
      "cell_type": "markdown",
      "id": "fed5cb5d",
      "metadata": {
        "id": "fed5cb5d"
      },
      "source": [
        "#### Import the libraries"
      ]
    },
    {
      "cell_type": "code",
      "execution_count": null,
      "id": "9ff9b1ad",
      "metadata": {
        "id": "9ff9b1ad"
      },
      "outputs": [],
      "source": [
        "import pandas as pd  # data preporcessing\n",
        "# pd is alias name for pandas\n",
        "import numpy as np  # mathematical calulations\n",
        "# np is alias for numpy\n",
        "import matplotlib.pyplot as plt  # viualization - graphs and charts\n",
        "# plt is alias for pyplot"
      ]
    },
    {
      "cell_type": "markdown",
      "id": "8598da38",
      "metadata": {
        "id": "8598da38"
      },
      "source": [
        "#### Read the dataset"
      ]
    },
    {
      "cell_type": "code",
      "execution_count": null,
      "id": "acf3d16d",
      "metadata": {
        "id": "acf3d16d",
        "outputId": "039d415d-9f08-443a-d544-d4fffc00148b"
      },
      "outputs": [
        {
          "data": {
            "text/html": [
              "<div>\n",
              "<style scoped>\n",
              "    .dataframe tbody tr th:only-of-type {\n",
              "        vertical-align: middle;\n",
              "    }\n",
              "\n",
              "    .dataframe tbody tr th {\n",
              "        vertical-align: top;\n",
              "    }\n",
              "\n",
              "    .dataframe thead th {\n",
              "        text-align: right;\n",
              "    }\n",
              "</style>\n",
              "<table border=\"1\" class=\"dataframe\">\n",
              "  <thead>\n",
              "    <tr style=\"text-align: right;\">\n",
              "      <th></th>\n",
              "      <th>title</th>\n",
              "      <th>artist</th>\n",
              "      <th>top genre</th>\n",
              "      <th>year</th>\n",
              "      <th>beats.per.minute</th>\n",
              "      <th>energy</th>\n",
              "      <th>danceability</th>\n",
              "      <th>loudness.dB</th>\n",
              "      <th>liveness</th>\n",
              "      <th>valance</th>\n",
              "      <th>length</th>\n",
              "      <th>acousticness</th>\n",
              "      <th>speechiness</th>\n",
              "      <th>popularity</th>\n",
              "    </tr>\n",
              "  </thead>\n",
              "  <tbody>\n",
              "    <tr>\n",
              "      <th>0</th>\n",
              "      <td>Blinding Lights</td>\n",
              "      <td>The Weeknd</td>\n",
              "      <td>canadian contemporary r&amp;b</td>\n",
              "      <td>2020</td>\n",
              "      <td>171</td>\n",
              "      <td>73</td>\n",
              "      <td>51</td>\n",
              "      <td>-6</td>\n",
              "      <td>9</td>\n",
              "      <td>33</td>\n",
              "      <td>200</td>\n",
              "      <td>0</td>\n",
              "      <td>6</td>\n",
              "      <td>91</td>\n",
              "    </tr>\n",
              "    <tr>\n",
              "      <th>1</th>\n",
              "      <td>Watermelon Sugar</td>\n",
              "      <td>Harry Styles</td>\n",
              "      <td>pop</td>\n",
              "      <td>2019</td>\n",
              "      <td>95</td>\n",
              "      <td>82</td>\n",
              "      <td>55</td>\n",
              "      <td>-4</td>\n",
              "      <td>34</td>\n",
              "      <td>56</td>\n",
              "      <td>174</td>\n",
              "      <td>12</td>\n",
              "      <td>5</td>\n",
              "      <td>88</td>\n",
              "    </tr>\n",
              "    <tr>\n",
              "      <th>2</th>\n",
              "      <td>Mood (feat. iann dior)</td>\n",
              "      <td>24kGoldn</td>\n",
              "      <td>cali rap</td>\n",
              "      <td>2021</td>\n",
              "      <td>91</td>\n",
              "      <td>72</td>\n",
              "      <td>70</td>\n",
              "      <td>-4</td>\n",
              "      <td>32</td>\n",
              "      <td>73</td>\n",
              "      <td>141</td>\n",
              "      <td>17</td>\n",
              "      <td>4</td>\n",
              "      <td>88</td>\n",
              "    </tr>\n",
              "    <tr>\n",
              "      <th>3</th>\n",
              "      <td>Someone You Loved</td>\n",
              "      <td>Lewis Capaldi</td>\n",
              "      <td>pop</td>\n",
              "      <td>2019</td>\n",
              "      <td>110</td>\n",
              "      <td>41</td>\n",
              "      <td>50</td>\n",
              "      <td>-6</td>\n",
              "      <td>11</td>\n",
              "      <td>45</td>\n",
              "      <td>182</td>\n",
              "      <td>75</td>\n",
              "      <td>3</td>\n",
              "      <td>86</td>\n",
              "    </tr>\n",
              "    <tr>\n",
              "      <th>4</th>\n",
              "      <td>Perfect</td>\n",
              "      <td>Ed Sheeran</td>\n",
              "      <td>pop</td>\n",
              "      <td>2017</td>\n",
              "      <td>95</td>\n",
              "      <td>45</td>\n",
              "      <td>60</td>\n",
              "      <td>-6</td>\n",
              "      <td>11</td>\n",
              "      <td>17</td>\n",
              "      <td>263</td>\n",
              "      <td>16</td>\n",
              "      <td>2</td>\n",
              "      <td>86</td>\n",
              "    </tr>\n",
              "  </tbody>\n",
              "</table>\n",
              "</div>"
            ],
            "text/plain": [
              "                    title         artist                  top genre  year  \\\n",
              "0         Blinding Lights     The Weeknd  canadian contemporary r&b  2020   \n",
              "1        Watermelon Sugar   Harry Styles                        pop  2019   \n",
              "2  Mood (feat. iann dior)       24kGoldn                   cali rap  2021   \n",
              "3       Someone You Loved  Lewis Capaldi                        pop  2019   \n",
              "4                 Perfect     Ed Sheeran                        pop  2017   \n",
              "\n",
              "   beats.per.minute  energy  danceability  loudness.dB  liveness  valance  \\\n",
              "0               171      73            51           -6         9       33   \n",
              "1                95      82            55           -4        34       56   \n",
              "2                91      72            70           -4        32       73   \n",
              "3               110      41            50           -6        11       45   \n",
              "4                95      45            60           -6        11       17   \n",
              "\n",
              "   length  acousticness  speechiness  popularity  \n",
              "0     200             0            6          91  \n",
              "1     174            12            5          88  \n",
              "2     141            17            4          88  \n",
              "3     182            75            3          86  \n",
              "4     263            16            2          86  "
            ]
          },
          "execution_count": 3,
          "metadata": {},
          "output_type": "execute_result"
        }
      ],
      "source": [
        "df = pd.read_csv('Spotify Top 100 most Streamed.csv')\n",
        "df.head()"
      ]
    },
    {
      "cell_type": "code",
      "execution_count": null,
      "id": "facce0bb",
      "metadata": {
        "id": "facce0bb",
        "outputId": "1201910a-66b2-4468-cdf5-6eba40385e05"
      },
      "outputs": [
        {
          "data": {
            "text/plain": [
              "(100, 14)"
            ]
          },
          "execution_count": 5,
          "metadata": {},
          "output_type": "execute_result"
        }
      ],
      "source": [
        "df.shape\n",
        "# rows = 100,cols= 14"
      ]
    },
    {
      "cell_type": "markdown",
      "id": "ca515c0c",
      "metadata": {
        "id": "ca515c0c"
      },
      "source": [
        "### Data Cleansing"
      ]
    },
    {
      "cell_type": "markdown",
      "id": "30a0751a",
      "metadata": {
        "id": "30a0751a"
      },
      "source": [
        "#### 1) Handling Null Values\n",
        "\n",
        "Assignment - Create a function to display column wise count of null values and percentage of null values in desc order of precentage in form of a dataframe."
      ]
    },
    {
      "cell_type": "code",
      "execution_count": null,
      "id": "d972f2d0",
      "metadata": {
        "id": "d972f2d0",
        "outputId": "b68f0194-8a4f-42e5-f7d3-f6d97d1d7022"
      },
      "outputs": [
        {
          "data": {
            "text/plain": [
              "title               0\n",
              "artist              0\n",
              "top genre           0\n",
              "year                0\n",
              "beats.per.minute    0\n",
              "energy              0\n",
              "danceability        0\n",
              "loudness.dB         0\n",
              "liveness            0\n",
              "valance             0\n",
              "length              0\n",
              "acousticness        0\n",
              "speechiness         0\n",
              "popularity          0\n",
              "dtype: int64"
            ]
          },
          "execution_count": 6,
          "metadata": {},
          "output_type": "execute_result"
        }
      ],
      "source": [
        "df.isnull().sum()"
      ]
    },
    {
      "cell_type": "markdown",
      "id": "d753cb35",
      "metadata": {
        "id": "d753cb35"
      },
      "source": [
        "#### 2) Handle Duplicates"
      ]
    },
    {
      "cell_type": "code",
      "execution_count": null,
      "id": "c22999e8",
      "metadata": {
        "id": "c22999e8",
        "outputId": "722552cd-3543-4fb3-bb57-dc786f543420"
      },
      "outputs": [
        {
          "data": {
            "text/plain": [
              "0"
            ]
          },
          "execution_count": 7,
          "metadata": {},
          "output_type": "execute_result"
        }
      ],
      "source": [
        "df.duplicated().sum()"
      ]
    },
    {
      "cell_type": "code",
      "execution_count": null,
      "id": "8ec5ae1d",
      "metadata": {
        "id": "8ec5ae1d",
        "outputId": "873fe7a2-f9bf-48fa-8d49-28d521db7dc9"
      },
      "outputs": [
        {
          "data": {
            "text/plain": [
              "Index(['title', 'artist', 'top genre', 'year', 'beats.per.minute', 'energy',\n",
              "       'danceability', 'loudness.dB', 'liveness', 'valance', 'length',\n",
              "       'acousticness', 'speechiness', 'popularity'],\n",
              "      dtype='object')"
            ]
          },
          "execution_count": 9,
          "metadata": {},
          "output_type": "execute_result"
        }
      ],
      "source": [
        "df.columns"
      ]
    },
    {
      "cell_type": "code",
      "execution_count": null,
      "id": "32b3433e",
      "metadata": {
        "id": "32b3433e",
        "outputId": "d84ccaa7-b109-4c38-d97d-7056e4f8b16f"
      },
      "outputs": [
        {
          "data": {
            "text/plain": [
              "title               object\n",
              "artist              object\n",
              "top genre           object\n",
              "year                 int64\n",
              "beats.per.minute     int64\n",
              "energy               int64\n",
              "danceability         int64\n",
              "loudness.dB          int64\n",
              "liveness             int64\n",
              "valance              int64\n",
              "length               int64\n",
              "acousticness         int64\n",
              "speechiness          int64\n",
              "popularity           int64\n",
              "dtype: object"
            ]
          },
          "execution_count": 10,
          "metadata": {},
          "output_type": "execute_result"
        }
      ],
      "source": [
        "df.dtypes"
      ]
    },
    {
      "cell_type": "markdown",
      "id": "e447ed6c",
      "metadata": {
        "id": "e447ed6c"
      },
      "source": [
        "#### Questions\n",
        "<pre>\n",
        "1) Top N Artists with most songs in top 100 spotify songs\n",
        "2) Top N Genres with most songs in top 100 spotify songs\n",
        "3) Percentage Contribution of top genres in Top N Artists with most songs\n",
        "4) Top 5 year contributing most to the spotify top 100 playlist\n",
        "5) Compute Top N Genre wise mean of Energy and Polularity.\n",
        "6) Compute Top Genre wise min, max, mean of Energy and mean and median of liveness.\n",
        "7) Compute artist wise min, max and mean of popularity and mean & count of liveness\n",
        "8) Generate the statistical summary of the data\n",
        "9) Capture Outliers in Energy\n",
        "</pre>"
      ]
    },
    {
      "cell_type": "code",
      "execution_count": null,
      "id": "8d3108fa",
      "metadata": {
        "id": "8d3108fa",
        "outputId": "5e2a17d9-460e-45ba-9a1d-d286ef6f1ff4"
      },
      "outputs": [
        {
          "data": {
            "text/plain": [
              "Index(['title', 'artist', 'top genre', 'year', 'beats.per.minute', 'energy',\n",
              "       'danceability', 'loudness.dB', 'liveness', 'valance', 'length',\n",
              "       'acousticness', 'speechiness', 'popularity'],\n",
              "      dtype='object')"
            ]
          },
          "execution_count": 11,
          "metadata": {},
          "output_type": "execute_result"
        }
      ],
      "source": [
        "df.columns"
      ]
    },
    {
      "cell_type": "markdown",
      "id": "a5d98665",
      "metadata": {
        "id": "a5d98665"
      },
      "source": [
        "#### 1) Top N Artists with most songs in top 100 spotify songs"
      ]
    },
    {
      "cell_type": "code",
      "execution_count": null,
      "id": "57ef1b58",
      "metadata": {
        "id": "57ef1b58",
        "outputId": "0a185144-c3b2-41da-c8bc-f0fa710f9427"
      },
      "outputs": [
        {
          "data": {
            "text/html": [
              "<div>\n",
              "<style scoped>\n",
              "    .dataframe tbody tr th:only-of-type {\n",
              "        vertical-align: middle;\n",
              "    }\n",
              "\n",
              "    .dataframe tbody tr th {\n",
              "        vertical-align: top;\n",
              "    }\n",
              "\n",
              "    .dataframe thead th {\n",
              "        text-align: right;\n",
              "    }\n",
              "</style>\n",
              "<table border=\"1\" class=\"dataframe\">\n",
              "  <thead>\n",
              "    <tr style=\"text-align: right;\">\n",
              "      <th></th>\n",
              "      <th>index</th>\n",
              "      <th>artist</th>\n",
              "    </tr>\n",
              "  </thead>\n",
              "  <tbody>\n",
              "    <tr>\n",
              "      <th>0</th>\n",
              "      <td>Post Malone</td>\n",
              "      <td>7</td>\n",
              "    </tr>\n",
              "    <tr>\n",
              "      <th>1</th>\n",
              "      <td>Ed Sheeran</td>\n",
              "      <td>5</td>\n",
              "    </tr>\n",
              "    <tr>\n",
              "      <th>2</th>\n",
              "      <td>The Weeknd</td>\n",
              "      <td>4</td>\n",
              "    </tr>\n",
              "    <tr>\n",
              "      <th>3</th>\n",
              "      <td>Imagine Dragons</td>\n",
              "      <td>4</td>\n",
              "    </tr>\n",
              "    <tr>\n",
              "      <th>4</th>\n",
              "      <td>Shawn Mendes</td>\n",
              "      <td>3</td>\n",
              "    </tr>\n",
              "    <tr>\n",
              "      <th>...</th>\n",
              "      <td>...</td>\n",
              "      <td>...</td>\n",
              "    </tr>\n",
              "    <tr>\n",
              "      <th>59</th>\n",
              "      <td>Eminem</td>\n",
              "      <td>1</td>\n",
              "    </tr>\n",
              "    <tr>\n",
              "      <th>60</th>\n",
              "      <td>Halsey</td>\n",
              "      <td>1</td>\n",
              "    </tr>\n",
              "    <tr>\n",
              "      <th>61</th>\n",
              "      <td>Mark Mendy</td>\n",
              "      <td>1</td>\n",
              "    </tr>\n",
              "    <tr>\n",
              "      <th>62</th>\n",
              "      <td>Vance Joy</td>\n",
              "      <td>1</td>\n",
              "    </tr>\n",
              "    <tr>\n",
              "      <th>63</th>\n",
              "      <td>Mike Posner</td>\n",
              "      <td>1</td>\n",
              "    </tr>\n",
              "  </tbody>\n",
              "</table>\n",
              "<p>64 rows × 2 columns</p>\n",
              "</div>"
            ],
            "text/plain": [
              "              index  artist\n",
              "0       Post Malone       7\n",
              "1        Ed Sheeran       5\n",
              "2        The Weeknd       4\n",
              "3   Imagine Dragons       4\n",
              "4      Shawn Mendes       3\n",
              "..              ...     ...\n",
              "59           Eminem       1\n",
              "60           Halsey       1\n",
              "61       Mark Mendy       1\n",
              "62        Vance Joy       1\n",
              "63      Mike Posner       1\n",
              "\n",
              "[64 rows x 2 columns]"
            ]
          },
          "execution_count": 17,
          "metadata": {},
          "output_type": "execute_result"
        }
      ],
      "source": [
        "df['artist'].value_counts().sort_values(ascending=False).reset_index()"
      ]
    },
    {
      "cell_type": "code",
      "execution_count": null,
      "id": "b1e25ccb",
      "metadata": {
        "id": "b1e25ccb"
      },
      "outputs": [],
      "source": [
        "def top_N_Artists_with_most_songs(n):\n",
        "    r = df['artist'].value_counts().sort_values(ascending=False).reset_index() # Series\n",
        "    r.columns = ['Artist','Song_Count']\n",
        "    return r.head(n)"
      ]
    },
    {
      "cell_type": "code",
      "execution_count": null,
      "id": "50caf735",
      "metadata": {
        "id": "50caf735",
        "outputId": "7f8eb969-f727-4943-c756-564a23669fa8"
      },
      "outputs": [
        {
          "data": {
            "text/html": [
              "<div>\n",
              "<style scoped>\n",
              "    .dataframe tbody tr th:only-of-type {\n",
              "        vertical-align: middle;\n",
              "    }\n",
              "\n",
              "    .dataframe tbody tr th {\n",
              "        vertical-align: top;\n",
              "    }\n",
              "\n",
              "    .dataframe thead th {\n",
              "        text-align: right;\n",
              "    }\n",
              "</style>\n",
              "<table border=\"1\" class=\"dataframe\">\n",
              "  <thead>\n",
              "    <tr style=\"text-align: right;\">\n",
              "      <th></th>\n",
              "      <th>Artist</th>\n",
              "      <th>Song_Count</th>\n",
              "    </tr>\n",
              "  </thead>\n",
              "  <tbody>\n",
              "    <tr>\n",
              "      <th>0</th>\n",
              "      <td>Post Malone</td>\n",
              "      <td>7</td>\n",
              "    </tr>\n",
              "    <tr>\n",
              "      <th>1</th>\n",
              "      <td>Ed Sheeran</td>\n",
              "      <td>5</td>\n",
              "    </tr>\n",
              "    <tr>\n",
              "      <th>2</th>\n",
              "      <td>The Weeknd</td>\n",
              "      <td>4</td>\n",
              "    </tr>\n",
              "    <tr>\n",
              "      <th>3</th>\n",
              "      <td>Imagine Dragons</td>\n",
              "      <td>4</td>\n",
              "    </tr>\n",
              "    <tr>\n",
              "      <th>4</th>\n",
              "      <td>Shawn Mendes</td>\n",
              "      <td>3</td>\n",
              "    </tr>\n",
              "    <tr>\n",
              "      <th>5</th>\n",
              "      <td>Billie Eilish</td>\n",
              "      <td>3</td>\n",
              "    </tr>\n",
              "    <tr>\n",
              "      <th>6</th>\n",
              "      <td>Maroon 5</td>\n",
              "      <td>3</td>\n",
              "    </tr>\n",
              "  </tbody>\n",
              "</table>\n",
              "</div>"
            ],
            "text/plain": [
              "            Artist  Song_Count\n",
              "0      Post Malone           7\n",
              "1       Ed Sheeran           5\n",
              "2       The Weeknd           4\n",
              "3  Imagine Dragons           4\n",
              "4     Shawn Mendes           3\n",
              "5    Billie Eilish           3\n",
              "6         Maroon 5           3"
            ]
          },
          "execution_count": 22,
          "metadata": {},
          "output_type": "execute_result"
        }
      ],
      "source": [
        "r1 = top_N_Artists_with_most_songs(7)\n",
        "r1"
      ]
    },
    {
      "cell_type": "code",
      "execution_count": null,
      "id": "1416cdd3",
      "metadata": {
        "id": "1416cdd3"
      },
      "outputs": [],
      "source": [
        "def top_N(col,n):\n",
        "    r = df[col].value_counts().sort_values(ascending=False).reset_index()\n",
        "    if col =='artist':\n",
        "        r.columns = ['Artist','Song_Count']\n",
        "    elif col == \"top genre\":\n",
        "        r.columns = ['Genre','Genre_Count']\n",
        "    return r.head(n)"
      ]
    },
    {
      "cell_type": "code",
      "execution_count": null,
      "id": "75be4116",
      "metadata": {
        "id": "75be4116",
        "outputId": "ff57adad-c83b-4ae7-e5e2-06562c3d45a7"
      },
      "outputs": [
        {
          "data": {
            "text/html": [
              "<div>\n",
              "<style scoped>\n",
              "    .dataframe tbody tr th:only-of-type {\n",
              "        vertical-align: middle;\n",
              "    }\n",
              "\n",
              "    .dataframe tbody tr th {\n",
              "        vertical-align: top;\n",
              "    }\n",
              "\n",
              "    .dataframe thead th {\n",
              "        text-align: right;\n",
              "    }\n",
              "</style>\n",
              "<table border=\"1\" class=\"dataframe\">\n",
              "  <thead>\n",
              "    <tr style=\"text-align: right;\">\n",
              "      <th></th>\n",
              "      <th>Genre</th>\n",
              "      <th>Genre_Count</th>\n",
              "    </tr>\n",
              "  </thead>\n",
              "  <tbody>\n",
              "    <tr>\n",
              "      <th>0</th>\n",
              "      <td>dance pop</td>\n",
              "      <td>28</td>\n",
              "    </tr>\n",
              "    <tr>\n",
              "      <th>1</th>\n",
              "      <td>pop</td>\n",
              "      <td>11</td>\n",
              "    </tr>\n",
              "    <tr>\n",
              "      <th>2</th>\n",
              "      <td>dfw rap</td>\n",
              "      <td>7</td>\n",
              "    </tr>\n",
              "    <tr>\n",
              "      <th>3</th>\n",
              "      <td>modern rock</td>\n",
              "      <td>6</td>\n",
              "    </tr>\n",
              "    <tr>\n",
              "      <th>4</th>\n",
              "      <td>canadian pop</td>\n",
              "      <td>6</td>\n",
              "    </tr>\n",
              "  </tbody>\n",
              "</table>\n",
              "</div>"
            ],
            "text/plain": [
              "          Genre  Genre_Count\n",
              "0     dance pop           28\n",
              "1           pop           11\n",
              "2       dfw rap            7\n",
              "3   modern rock            6\n",
              "4  canadian pop            6"
            ]
          },
          "execution_count": 29,
          "metadata": {},
          "output_type": "execute_result"
        }
      ],
      "source": [
        "r2 = top_N('top genre',5)\n",
        "r2"
      ]
    },
    {
      "cell_type": "markdown",
      "id": "51ef9b4e",
      "metadata": {
        "id": "51ef9b4e"
      },
      "source": [
        "#### 3) Percentage Contribution of top genres in Top N Artists with most songs"
      ]
    },
    {
      "cell_type": "code",
      "execution_count": null,
      "id": "357e0198",
      "metadata": {
        "id": "357e0198",
        "outputId": "bc0f284d-861a-466c-c537-9dbf25d10b1b"
      },
      "outputs": [
        {
          "data": {
            "text/html": [
              "<div>\n",
              "<style scoped>\n",
              "    .dataframe tbody tr th:only-of-type {\n",
              "        vertical-align: middle;\n",
              "    }\n",
              "\n",
              "    .dataframe tbody tr th {\n",
              "        vertical-align: top;\n",
              "    }\n",
              "\n",
              "    .dataframe thead th {\n",
              "        text-align: right;\n",
              "    }\n",
              "</style>\n",
              "<table border=\"1\" class=\"dataframe\">\n",
              "  <thead>\n",
              "    <tr style=\"text-align: right;\">\n",
              "      <th></th>\n",
              "      <th>Artist</th>\n",
              "      <th>Song_Count</th>\n",
              "    </tr>\n",
              "  </thead>\n",
              "  <tbody>\n",
              "    <tr>\n",
              "      <th>0</th>\n",
              "      <td>Post Malone</td>\n",
              "      <td>7</td>\n",
              "    </tr>\n",
              "    <tr>\n",
              "      <th>1</th>\n",
              "      <td>Ed Sheeran</td>\n",
              "      <td>5</td>\n",
              "    </tr>\n",
              "    <tr>\n",
              "      <th>2</th>\n",
              "      <td>The Weeknd</td>\n",
              "      <td>4</td>\n",
              "    </tr>\n",
              "    <tr>\n",
              "      <th>3</th>\n",
              "      <td>Imagine Dragons</td>\n",
              "      <td>4</td>\n",
              "    </tr>\n",
              "    <tr>\n",
              "      <th>4</th>\n",
              "      <td>Shawn Mendes</td>\n",
              "      <td>3</td>\n",
              "    </tr>\n",
              "    <tr>\n",
              "      <th>5</th>\n",
              "      <td>Billie Eilish</td>\n",
              "      <td>3</td>\n",
              "    </tr>\n",
              "    <tr>\n",
              "      <th>6</th>\n",
              "      <td>Maroon 5</td>\n",
              "      <td>3</td>\n",
              "    </tr>\n",
              "  </tbody>\n",
              "</table>\n",
              "</div>"
            ],
            "text/plain": [
              "            Artist  Song_Count\n",
              "0      Post Malone           7\n",
              "1       Ed Sheeran           5\n",
              "2       The Weeknd           4\n",
              "3  Imagine Dragons           4\n",
              "4     Shawn Mendes           3\n",
              "5    Billie Eilish           3\n",
              "6         Maroon 5           3"
            ]
          },
          "execution_count": 30,
          "metadata": {},
          "output_type": "execute_result"
        }
      ],
      "source": [
        "r3 = top_N('artist',7)\n",
        "r3"
      ]
    },
    {
      "cell_type": "code",
      "execution_count": null,
      "id": "e484f1b8",
      "metadata": {
        "id": "e484f1b8",
        "outputId": "ba18bb65-ba06-4f72-df11-0f5533a699b5"
      },
      "outputs": [
        {
          "data": {
            "text/plain": [
              "29"
            ]
          },
          "execution_count": 31,
          "metadata": {},
          "output_type": "execute_result"
        }
      ],
      "source": [
        "r3['Song_Count'].sum()"
      ]
    },
    {
      "cell_type": "code",
      "execution_count": null,
      "id": "f9306cea",
      "metadata": {
        "id": "f9306cea",
        "outputId": "df0df3cc-0b70-46d6-9dc6-ed93984946af"
      },
      "outputs": [
        {
          "data": {
            "text/plain": [
              "['Post Malone',\n",
              " 'Ed Sheeran',\n",
              " 'The Weeknd',\n",
              " 'Imagine Dragons',\n",
              " 'Shawn Mendes',\n",
              " 'Billie Eilish',\n",
              " 'Maroon 5']"
            ]
          },
          "execution_count": 37,
          "metadata": {},
          "output_type": "execute_result"
        }
      ],
      "source": [
        "top7_artist = r3['Artist'].values.tolist()\n",
        "top7_artist"
      ]
    },
    {
      "cell_type": "code",
      "execution_count": null,
      "id": "ee82f0f5",
      "metadata": {
        "id": "ee82f0f5",
        "outputId": "95d9151f-4a81-4380-f137-b550da9d0189"
      },
      "outputs": [
        {
          "data": {
            "text/html": [
              "<div>\n",
              "<style scoped>\n",
              "    .dataframe tbody tr th:only-of-type {\n",
              "        vertical-align: middle;\n",
              "    }\n",
              "\n",
              "    .dataframe tbody tr th {\n",
              "        vertical-align: top;\n",
              "    }\n",
              "\n",
              "    .dataframe thead th {\n",
              "        text-align: right;\n",
              "    }\n",
              "</style>\n",
              "<table border=\"1\" class=\"dataframe\">\n",
              "  <thead>\n",
              "    <tr style=\"text-align: right;\">\n",
              "      <th></th>\n",
              "      <th>title</th>\n",
              "      <th>artist</th>\n",
              "      <th>top genre</th>\n",
              "      <th>year</th>\n",
              "      <th>beats.per.minute</th>\n",
              "      <th>energy</th>\n",
              "      <th>danceability</th>\n",
              "      <th>loudness.dB</th>\n",
              "      <th>liveness</th>\n",
              "      <th>valance</th>\n",
              "      <th>length</th>\n",
              "      <th>acousticness</th>\n",
              "      <th>speechiness</th>\n",
              "      <th>popularity</th>\n",
              "    </tr>\n",
              "  </thead>\n",
              "  <tbody>\n",
              "    <tr>\n",
              "      <th>4</th>\n",
              "      <td>Perfect</td>\n",
              "      <td>Ed Sheeran</td>\n",
              "      <td>pop</td>\n",
              "      <td>2017</td>\n",
              "      <td>95</td>\n",
              "      <td>45</td>\n",
              "      <td>60</td>\n",
              "      <td>-6</td>\n",
              "      <td>11</td>\n",
              "      <td>17</td>\n",
              "      <td>263</td>\n",
              "      <td>16</td>\n",
              "      <td>2</td>\n",
              "      <td>86</td>\n",
              "    </tr>\n",
              "    <tr>\n",
              "      <th>8</th>\n",
              "      <td>Shape of You</td>\n",
              "      <td>Ed Sheeran</td>\n",
              "      <td>pop</td>\n",
              "      <td>2017</td>\n",
              "      <td>96</td>\n",
              "      <td>65</td>\n",
              "      <td>83</td>\n",
              "      <td>-3</td>\n",
              "      <td>9</td>\n",
              "      <td>93</td>\n",
              "      <td>234</td>\n",
              "      <td>58</td>\n",
              "      <td>8</td>\n",
              "      <td>85</td>\n",
              "    </tr>\n",
              "    <tr>\n",
              "      <th>9</th>\n",
              "      <td>Memories</td>\n",
              "      <td>Maroon 5</td>\n",
              "      <td>pop</td>\n",
              "      <td>2021</td>\n",
              "      <td>91</td>\n",
              "      <td>33</td>\n",
              "      <td>78</td>\n",
              "      <td>-7</td>\n",
              "      <td>8</td>\n",
              "      <td>60</td>\n",
              "      <td>189</td>\n",
              "      <td>84</td>\n",
              "      <td>6</td>\n",
              "      <td>85</td>\n",
              "    </tr>\n",
              "    <tr>\n",
              "      <th>21</th>\n",
              "      <td>Photograph</td>\n",
              "      <td>Ed Sheeran</td>\n",
              "      <td>pop</td>\n",
              "      <td>2014</td>\n",
              "      <td>108</td>\n",
              "      <td>38</td>\n",
              "      <td>61</td>\n",
              "      <td>-10</td>\n",
              "      <td>10</td>\n",
              "      <td>20</td>\n",
              "      <td>259</td>\n",
              "      <td>61</td>\n",
              "      <td>5</td>\n",
              "      <td>83</td>\n",
              "    </tr>\n",
              "    <tr>\n",
              "      <th>29</th>\n",
              "      <td>Thinking out Loud</td>\n",
              "      <td>Ed Sheeran</td>\n",
              "      <td>pop</td>\n",
              "      <td>2014</td>\n",
              "      <td>79</td>\n",
              "      <td>45</td>\n",
              "      <td>78</td>\n",
              "      <td>-6</td>\n",
              "      <td>18</td>\n",
              "      <td>59</td>\n",
              "      <td>282</td>\n",
              "      <td>47</td>\n",
              "      <td>3</td>\n",
              "      <td>82</td>\n",
              "    </tr>\n",
              "    <tr>\n",
              "      <th>57</th>\n",
              "      <td>I Don't Care (with Justin Bieber)</td>\n",
              "      <td>Ed Sheeran</td>\n",
              "      <td>pop</td>\n",
              "      <td>2019</td>\n",
              "      <td>102</td>\n",
              "      <td>68</td>\n",
              "      <td>80</td>\n",
              "      <td>-5</td>\n",
              "      <td>9</td>\n",
              "      <td>84</td>\n",
              "      <td>220</td>\n",
              "      <td>9</td>\n",
              "      <td>4</td>\n",
              "      <td>80</td>\n",
              "    </tr>\n",
              "    <tr>\n",
              "      <th>87</th>\n",
              "      <td>Girls Like You (feat. Cardi B) - Cardi B Version</td>\n",
              "      <td>Maroon 5</td>\n",
              "      <td>pop</td>\n",
              "      <td>2018</td>\n",
              "      <td>125</td>\n",
              "      <td>54</td>\n",
              "      <td>85</td>\n",
              "      <td>-7</td>\n",
              "      <td>13</td>\n",
              "      <td>45</td>\n",
              "      <td>236</td>\n",
              "      <td>57</td>\n",
              "      <td>5</td>\n",
              "      <td>74</td>\n",
              "    </tr>\n",
              "    <tr>\n",
              "      <th>96</th>\n",
              "      <td>Sugar</td>\n",
              "      <td>Maroon 5</td>\n",
              "      <td>pop</td>\n",
              "      <td>2015</td>\n",
              "      <td>120</td>\n",
              "      <td>79</td>\n",
              "      <td>75</td>\n",
              "      <td>-7</td>\n",
              "      <td>9</td>\n",
              "      <td>88</td>\n",
              "      <td>235</td>\n",
              "      <td>6</td>\n",
              "      <td>3</td>\n",
              "      <td>66</td>\n",
              "    </tr>\n",
              "  </tbody>\n",
              "</table>\n",
              "</div>"
            ],
            "text/plain": [
              "                                               title      artist top genre  \\\n",
              "4                                            Perfect  Ed Sheeran       pop   \n",
              "8                                       Shape of You  Ed Sheeran       pop   \n",
              "9                                           Memories    Maroon 5       pop   \n",
              "21                                        Photograph  Ed Sheeran       pop   \n",
              "29                                 Thinking out Loud  Ed Sheeran       pop   \n",
              "57                 I Don't Care (with Justin Bieber)  Ed Sheeran       pop   \n",
              "87  Girls Like You (feat. Cardi B) - Cardi B Version    Maroon 5       pop   \n",
              "96                                             Sugar    Maroon 5       pop   \n",
              "\n",
              "    year  beats.per.minute  energy  danceability  loudness.dB  liveness  \\\n",
              "4   2017                95      45            60           -6        11   \n",
              "8   2017                96      65            83           -3         9   \n",
              "9   2021                91      33            78           -7         8   \n",
              "21  2014               108      38            61          -10        10   \n",
              "29  2014                79      45            78           -6        18   \n",
              "57  2019               102      68            80           -5         9   \n",
              "87  2018               125      54            85           -7        13   \n",
              "96  2015               120      79            75           -7         9   \n",
              "\n",
              "    valance  length  acousticness  speechiness  popularity  \n",
              "4        17     263            16            2          86  \n",
              "8        93     234            58            8          85  \n",
              "9        60     189            84            6          85  \n",
              "21       20     259            61            5          83  \n",
              "29       59     282            47            3          82  \n",
              "57       84     220             9            4          80  \n",
              "87       45     236            57            5          74  \n",
              "96       88     235             6            3          66  "
            ]
          },
          "execution_count": 41,
          "metadata": {},
          "output_type": "execute_result"
        }
      ],
      "source": [
        "df[df['artist'].isin(['Ed Sheeran','Maroon 5'])]"
      ]
    },
    {
      "cell_type": "code",
      "execution_count": null,
      "id": "4520f251",
      "metadata": {
        "id": "4520f251"
      },
      "outputs": [],
      "source": [
        "# select * from table where City in ('Mumbai','Delhi','Pune');\n",
        "# isin() - pass a list inside it"
      ]
    },
    {
      "cell_type": "code",
      "execution_count": null,
      "id": "6221f648",
      "metadata": {
        "id": "6221f648",
        "outputId": "9e9a3125-814c-400a-fe19-4241855a976c"
      },
      "outputs": [
        {
          "data": {
            "text/html": [
              "<div>\n",
              "<style scoped>\n",
              "    .dataframe tbody tr th:only-of-type {\n",
              "        vertical-align: middle;\n",
              "    }\n",
              "\n",
              "    .dataframe tbody tr th {\n",
              "        vertical-align: top;\n",
              "    }\n",
              "\n",
              "    .dataframe thead th {\n",
              "        text-align: right;\n",
              "    }\n",
              "</style>\n",
              "<table border=\"1\" class=\"dataframe\">\n",
              "  <thead>\n",
              "    <tr style=\"text-align: right;\">\n",
              "      <th></th>\n",
              "      <th>title</th>\n",
              "      <th>artist</th>\n",
              "      <th>top genre</th>\n",
              "      <th>year</th>\n",
              "      <th>beats.per.minute</th>\n",
              "      <th>energy</th>\n",
              "      <th>danceability</th>\n",
              "      <th>loudness.dB</th>\n",
              "      <th>liveness</th>\n",
              "      <th>valance</th>\n",
              "      <th>length</th>\n",
              "      <th>acousticness</th>\n",
              "      <th>speechiness</th>\n",
              "      <th>popularity</th>\n",
              "    </tr>\n",
              "  </thead>\n",
              "  <tbody>\n",
              "    <tr>\n",
              "      <th>0</th>\n",
              "      <td>Blinding Lights</td>\n",
              "      <td>The Weeknd</td>\n",
              "      <td>canadian contemporary r&amp;b</td>\n",
              "      <td>2020</td>\n",
              "      <td>171</td>\n",
              "      <td>73</td>\n",
              "      <td>51</td>\n",
              "      <td>-6</td>\n",
              "      <td>9</td>\n",
              "      <td>33</td>\n",
              "      <td>200</td>\n",
              "      <td>0</td>\n",
              "      <td>6</td>\n",
              "      <td>91</td>\n",
              "    </tr>\n",
              "    <tr>\n",
              "      <th>4</th>\n",
              "      <td>Perfect</td>\n",
              "      <td>Ed Sheeran</td>\n",
              "      <td>pop</td>\n",
              "      <td>2017</td>\n",
              "      <td>95</td>\n",
              "      <td>45</td>\n",
              "      <td>60</td>\n",
              "      <td>-6</td>\n",
              "      <td>11</td>\n",
              "      <td>17</td>\n",
              "      <td>263</td>\n",
              "      <td>16</td>\n",
              "      <td>2</td>\n",
              "      <td>86</td>\n",
              "    </tr>\n",
              "    <tr>\n",
              "      <th>5</th>\n",
              "      <td>Believer</td>\n",
              "      <td>Imagine Dragons</td>\n",
              "      <td>modern rock</td>\n",
              "      <td>2017</td>\n",
              "      <td>125</td>\n",
              "      <td>78</td>\n",
              "      <td>78</td>\n",
              "      <td>-4</td>\n",
              "      <td>8</td>\n",
              "      <td>67</td>\n",
              "      <td>204</td>\n",
              "      <td>6</td>\n",
              "      <td>13</td>\n",
              "      <td>86</td>\n",
              "    </tr>\n",
              "    <tr>\n",
              "      <th>6</th>\n",
              "      <td>lovely (with Khalid)</td>\n",
              "      <td>Billie Eilish</td>\n",
              "      <td>electropop</td>\n",
              "      <td>2018</td>\n",
              "      <td>115</td>\n",
              "      <td>30</td>\n",
              "      <td>35</td>\n",
              "      <td>-10</td>\n",
              "      <td>10</td>\n",
              "      <td>12</td>\n",
              "      <td>200</td>\n",
              "      <td>93</td>\n",
              "      <td>3</td>\n",
              "      <td>86</td>\n",
              "    </tr>\n",
              "    <tr>\n",
              "      <th>7</th>\n",
              "      <td>Circles</td>\n",
              "      <td>Post Malone</td>\n",
              "      <td>dfw rap</td>\n",
              "      <td>2019</td>\n",
              "      <td>120</td>\n",
              "      <td>76</td>\n",
              "      <td>70</td>\n",
              "      <td>-3</td>\n",
              "      <td>9</td>\n",
              "      <td>55</td>\n",
              "      <td>215</td>\n",
              "      <td>19</td>\n",
              "      <td>4</td>\n",
              "      <td>86</td>\n",
              "    </tr>\n",
              "  </tbody>\n",
              "</table>\n",
              "</div>"
            ],
            "text/plain": [
              "                  title           artist                  top genre  year  \\\n",
              "0       Blinding Lights       The Weeknd  canadian contemporary r&b  2020   \n",
              "4               Perfect       Ed Sheeran                        pop  2017   \n",
              "5              Believer  Imagine Dragons                modern rock  2017   \n",
              "6  lovely (with Khalid)    Billie Eilish                 electropop  2018   \n",
              "7               Circles      Post Malone                    dfw rap  2019   \n",
              "\n",
              "   beats.per.minute  energy  danceability  loudness.dB  liveness  valance  \\\n",
              "0               171      73            51           -6         9       33   \n",
              "4                95      45            60           -6        11       17   \n",
              "5               125      78            78           -4         8       67   \n",
              "6               115      30            35          -10        10       12   \n",
              "7               120      76            70           -3         9       55   \n",
              "\n",
              "   length  acousticness  speechiness  popularity  \n",
              "0     200             0            6          91  \n",
              "4     263            16            2          86  \n",
              "5     204             6           13          86  \n",
              "6     200            93            3          86  \n",
              "7     215            19            4          86  "
            ]
          },
          "execution_count": 39,
          "metadata": {},
          "output_type": "execute_result"
        }
      ],
      "source": [
        "res3 = df[df['artist'].isin(top7_artist)]\n",
        "res3.head()"
      ]
    },
    {
      "cell_type": "code",
      "execution_count": null,
      "id": "c42a5793",
      "metadata": {
        "id": "c42a5793",
        "outputId": "b6042a72-aa6a-4d27-8d7f-7df9b3014fdf"
      },
      "outputs": [
        {
          "data": {
            "text/html": [
              "<div>\n",
              "<style scoped>\n",
              "    .dataframe tbody tr th:only-of-type {\n",
              "        vertical-align: middle;\n",
              "    }\n",
              "\n",
              "    .dataframe tbody tr th {\n",
              "        vertical-align: top;\n",
              "    }\n",
              "\n",
              "    .dataframe thead th {\n",
              "        text-align: right;\n",
              "    }\n",
              "</style>\n",
              "<table border=\"1\" class=\"dataframe\">\n",
              "  <thead>\n",
              "    <tr style=\"text-align: right;\">\n",
              "      <th></th>\n",
              "      <th>Genre</th>\n",
              "      <th>Count</th>\n",
              "    </tr>\n",
              "  </thead>\n",
              "  <tbody>\n",
              "    <tr>\n",
              "      <th>0</th>\n",
              "      <td>pop</td>\n",
              "      <td>8</td>\n",
              "    </tr>\n",
              "    <tr>\n",
              "      <th>1</th>\n",
              "      <td>dfw rap</td>\n",
              "      <td>7</td>\n",
              "    </tr>\n",
              "    <tr>\n",
              "      <th>2</th>\n",
              "      <td>canadian contemporary r&amp;b</td>\n",
              "      <td>4</td>\n",
              "    </tr>\n",
              "    <tr>\n",
              "      <th>3</th>\n",
              "      <td>modern rock</td>\n",
              "      <td>4</td>\n",
              "    </tr>\n",
              "    <tr>\n",
              "      <th>4</th>\n",
              "      <td>electropop</td>\n",
              "      <td>3</td>\n",
              "    </tr>\n",
              "    <tr>\n",
              "      <th>5</th>\n",
              "      <td>canadian pop</td>\n",
              "      <td>3</td>\n",
              "    </tr>\n",
              "  </tbody>\n",
              "</table>\n",
              "</div>"
            ],
            "text/plain": [
              "                       Genre  Count\n",
              "0                        pop      8\n",
              "1                    dfw rap      7\n",
              "2  canadian contemporary r&b      4\n",
              "3                modern rock      4\n",
              "4                 electropop      3\n",
              "5               canadian pop      3"
            ]
          },
          "execution_count": 46,
          "metadata": {},
          "output_type": "execute_result"
        }
      ],
      "source": [
        "w1 = res3['top genre'].value_counts().reset_index()\n",
        "w1.columns = ['Genre','Count']\n",
        "w1"
      ]
    },
    {
      "cell_type": "code",
      "execution_count": null,
      "id": "480bf2ce",
      "metadata": {
        "id": "480bf2ce",
        "outputId": "200f27bf-1502-4871-8dff-6e905b950a77"
      },
      "outputs": [
        {
          "data": {
            "text/plain": [
              "29"
            ]
          },
          "execution_count": 48,
          "metadata": {},
          "output_type": "execute_result"
        }
      ],
      "source": [
        "w1['Count'].sum()"
      ]
    },
    {
      "cell_type": "code",
      "execution_count": null,
      "id": "465ced2d",
      "metadata": {
        "id": "465ced2d",
        "outputId": "b257956d-5e34-44c1-f6e8-54d54a44599d"
      },
      "outputs": [
        {
          "data": {
            "text/html": [
              "<div>\n",
              "<style scoped>\n",
              "    .dataframe tbody tr th:only-of-type {\n",
              "        vertical-align: middle;\n",
              "    }\n",
              "\n",
              "    .dataframe tbody tr th {\n",
              "        vertical-align: top;\n",
              "    }\n",
              "\n",
              "    .dataframe thead th {\n",
              "        text-align: right;\n",
              "    }\n",
              "</style>\n",
              "<table border=\"1\" class=\"dataframe\">\n",
              "  <thead>\n",
              "    <tr style=\"text-align: right;\">\n",
              "      <th></th>\n",
              "      <th>Genre</th>\n",
              "      <th>Count</th>\n",
              "      <th>Percent</th>\n",
              "    </tr>\n",
              "  </thead>\n",
              "  <tbody>\n",
              "    <tr>\n",
              "      <th>0</th>\n",
              "      <td>pop</td>\n",
              "      <td>8</td>\n",
              "      <td>27.586207</td>\n",
              "    </tr>\n",
              "    <tr>\n",
              "      <th>1</th>\n",
              "      <td>dfw rap</td>\n",
              "      <td>7</td>\n",
              "      <td>24.137931</td>\n",
              "    </tr>\n",
              "    <tr>\n",
              "      <th>2</th>\n",
              "      <td>canadian contemporary r&amp;b</td>\n",
              "      <td>4</td>\n",
              "      <td>13.793103</td>\n",
              "    </tr>\n",
              "    <tr>\n",
              "      <th>3</th>\n",
              "      <td>modern rock</td>\n",
              "      <td>4</td>\n",
              "      <td>13.793103</td>\n",
              "    </tr>\n",
              "    <tr>\n",
              "      <th>4</th>\n",
              "      <td>electropop</td>\n",
              "      <td>3</td>\n",
              "      <td>10.344828</td>\n",
              "    </tr>\n",
              "    <tr>\n",
              "      <th>5</th>\n",
              "      <td>canadian pop</td>\n",
              "      <td>3</td>\n",
              "      <td>10.344828</td>\n",
              "    </tr>\n",
              "  </tbody>\n",
              "</table>\n",
              "</div>"
            ],
            "text/plain": [
              "                       Genre  Count    Percent\n",
              "0                        pop      8  27.586207\n",
              "1                    dfw rap      7  24.137931\n",
              "2  canadian contemporary r&b      4  13.793103\n",
              "3                modern rock      4  13.793103\n",
              "4                 electropop      3  10.344828\n",
              "5               canadian pop      3  10.344828"
            ]
          },
          "execution_count": 47,
          "metadata": {},
          "output_type": "execute_result"
        }
      ],
      "source": [
        "w1['Percent'] = (w1['Count']/w1['Count'].sum())*100\n",
        "w1"
      ]
    },
    {
      "cell_type": "code",
      "execution_count": null,
      "id": "97556c73",
      "metadata": {
        "id": "97556c73"
      },
      "outputs": [],
      "source": [
        "# City  Count  # percent\n",
        "# A     10      (10/(10+5+7))*100\n",
        "# B      5      (5/(10+5+7))*100\n",
        "# C      7      (7/(10+5+7))*100"
      ]
    },
    {
      "cell_type": "markdown",
      "id": "0b696de9",
      "metadata": {
        "id": "0b696de9"
      },
      "source": [
        "#### 4) Top 5 year contributing most to the spotify top 100 playlist"
      ]
    },
    {
      "cell_type": "code",
      "execution_count": null,
      "id": "c0857f9c",
      "metadata": {
        "id": "c0857f9c",
        "outputId": "1173ed4c-b3df-4837-a847-0dc7e231a1d6"
      },
      "outputs": [
        {
          "data": {
            "text/plain": [
              "2018    20\n",
              "2019    16\n",
              "2016    16\n",
              "2015    13\n",
              "2017    12\n",
              "Name: year, dtype: int64"
            ]
          },
          "execution_count": 50,
          "metadata": {},
          "output_type": "execute_result"
        }
      ],
      "source": [
        "res5 = df['year'].value_counts().head(5)\n",
        "res5"
      ]
    },
    {
      "cell_type": "markdown",
      "id": "3dee3e99",
      "metadata": {
        "id": "3dee3e99"
      },
      "source": [
        "#### 6) Compute Top N Genre wise mean of Energy and Polularity"
      ]
    },
    {
      "cell_type": "code",
      "execution_count": null,
      "id": "bceb2b61",
      "metadata": {
        "id": "bceb2b61",
        "outputId": "65c1bbde-48aa-4ec8-d1a8-fa9d4fbd5c18"
      },
      "outputs": [
        {
          "data": {
            "text/html": [
              "<div>\n",
              "<style scoped>\n",
              "    .dataframe tbody tr th:only-of-type {\n",
              "        vertical-align: middle;\n",
              "    }\n",
              "\n",
              "    .dataframe tbody tr th {\n",
              "        vertical-align: top;\n",
              "    }\n",
              "\n",
              "    .dataframe thead th {\n",
              "        text-align: right;\n",
              "    }\n",
              "</style>\n",
              "<table border=\"1\" class=\"dataframe\">\n",
              "  <thead>\n",
              "    <tr style=\"text-align: right;\">\n",
              "      <th></th>\n",
              "      <th>Genre</th>\n",
              "      <th>Genre_Count</th>\n",
              "    </tr>\n",
              "  </thead>\n",
              "  <tbody>\n",
              "    <tr>\n",
              "      <th>0</th>\n",
              "      <td>dance pop</td>\n",
              "      <td>28</td>\n",
              "    </tr>\n",
              "    <tr>\n",
              "      <th>1</th>\n",
              "      <td>pop</td>\n",
              "      <td>11</td>\n",
              "    </tr>\n",
              "    <tr>\n",
              "      <th>2</th>\n",
              "      <td>dfw rap</td>\n",
              "      <td>7</td>\n",
              "    </tr>\n",
              "    <tr>\n",
              "      <th>3</th>\n",
              "      <td>modern rock</td>\n",
              "      <td>6</td>\n",
              "    </tr>\n",
              "    <tr>\n",
              "      <th>4</th>\n",
              "      <td>canadian pop</td>\n",
              "      <td>6</td>\n",
              "    </tr>\n",
              "  </tbody>\n",
              "</table>\n",
              "</div>"
            ],
            "text/plain": [
              "          Genre  Genre_Count\n",
              "0     dance pop           28\n",
              "1           pop           11\n",
              "2       dfw rap            7\n",
              "3   modern rock            6\n",
              "4  canadian pop            6"
            ]
          },
          "execution_count": 52,
          "metadata": {},
          "output_type": "execute_result"
        }
      ],
      "source": [
        "res6 = top_N('top genre',5)\n",
        "res6"
      ]
    },
    {
      "cell_type": "code",
      "execution_count": null,
      "id": "a8f05efb",
      "metadata": {
        "id": "a8f05efb",
        "outputId": "aaa647a5-7bbc-4181-d94b-d22b3221483b"
      },
      "outputs": [
        {
          "data": {
            "text/plain": [
              "58"
            ]
          },
          "execution_count": 61,
          "metadata": {},
          "output_type": "execute_result"
        }
      ],
      "source": [
        "res6['Genre_Count'].sum()"
      ]
    },
    {
      "cell_type": "code",
      "execution_count": null,
      "id": "b1cb895e",
      "metadata": {
        "id": "b1cb895e",
        "outputId": "0771c582-d518-4053-c376-47a6ee9787c2"
      },
      "outputs": [
        {
          "data": {
            "text/plain": [
              "['dance pop', 'pop', 'dfw rap', 'modern rock', 'canadian pop']"
            ]
          },
          "execution_count": 60,
          "metadata": {},
          "output_type": "execute_result"
        }
      ],
      "source": [
        "top5genres = res6['Genre'].values.tolist()\n",
        "top5genres"
      ]
    },
    {
      "cell_type": "code",
      "execution_count": null,
      "id": "8ef103af",
      "metadata": {
        "id": "8ef103af",
        "outputId": "9ef442e6-572b-4203-8f86-3c19fb3f4841"
      },
      "outputs": [
        {
          "data": {
            "text/plain": [
              "Index(['title', 'artist', 'top genre', 'year', 'beats.per.minute', 'energy',\n",
              "       'danceability', 'loudness.dB', 'liveness', 'valance', 'length',\n",
              "       'acousticness', 'speechiness', 'popularity'],\n",
              "      dtype='object')"
            ]
          },
          "execution_count": 63,
          "metadata": {},
          "output_type": "execute_result"
        }
      ],
      "source": [
        "w2 = df[df['top genre'].isin(top5genres)]\n",
        "w2.columns"
      ]
    },
    {
      "cell_type": "code",
      "execution_count": null,
      "id": "dd331ec2",
      "metadata": {
        "id": "dd331ec2",
        "outputId": "54e0e2d7-a458-467c-9631-24e4a4ab2248"
      },
      "outputs": [
        {
          "data": {
            "text/html": [
              "<div>\n",
              "<style scoped>\n",
              "    .dataframe tbody tr th:only-of-type {\n",
              "        vertical-align: middle;\n",
              "    }\n",
              "\n",
              "    .dataframe tbody tr th {\n",
              "        vertical-align: top;\n",
              "    }\n",
              "\n",
              "    .dataframe thead th {\n",
              "        text-align: right;\n",
              "    }\n",
              "</style>\n",
              "<table border=\"1\" class=\"dataframe\">\n",
              "  <thead>\n",
              "    <tr style=\"text-align: right;\">\n",
              "      <th></th>\n",
              "      <th>energy</th>\n",
              "      <th>popularity</th>\n",
              "    </tr>\n",
              "    <tr>\n",
              "      <th>top genre</th>\n",
              "      <th></th>\n",
              "      <th></th>\n",
              "    </tr>\n",
              "  </thead>\n",
              "  <tbody>\n",
              "    <tr>\n",
              "      <th>canadian pop</th>\n",
              "      <td>63.666667</td>\n",
              "      <td>79.500000</td>\n",
              "    </tr>\n",
              "    <tr>\n",
              "      <th>dance pop</th>\n",
              "      <td>63.178571</td>\n",
              "      <td>77.714286</td>\n",
              "    </tr>\n",
              "    <tr>\n",
              "      <th>dfw rap</th>\n",
              "      <td>60.571429</td>\n",
              "      <td>81.285714</td>\n",
              "    </tr>\n",
              "    <tr>\n",
              "      <th>modern rock</th>\n",
              "      <td>68.833333</td>\n",
              "      <td>81.166667</td>\n",
              "    </tr>\n",
              "    <tr>\n",
              "      <th>pop</th>\n",
              "      <td>55.090909</td>\n",
              "      <td>81.727273</td>\n",
              "    </tr>\n",
              "  </tbody>\n",
              "</table>\n",
              "</div>"
            ],
            "text/plain": [
              "                 energy  popularity\n",
              "top genre                          \n",
              "canadian pop  63.666667   79.500000\n",
              "dance pop     63.178571   77.714286\n",
              "dfw rap       60.571429   81.285714\n",
              "modern rock   68.833333   81.166667\n",
              "pop           55.090909   81.727273"
            ]
          },
          "execution_count": 65,
          "metadata": {},
          "output_type": "execute_result"
        }
      ],
      "source": [
        "res6 = w2.groupby(['top genre'])[['energy','popularity']].mean()\n",
        "res6\n",
        "# ['dance pop', 'pop', 'dfw rap', 'modern rock', 'canadian pop']"
      ]
    },
    {
      "cell_type": "code",
      "execution_count": null,
      "id": "162964f3",
      "metadata": {
        "id": "162964f3"
      },
      "outputs": [],
      "source": []
    }
  ],
  "metadata": {
    "kernelspec": {
      "display_name": "Python 3 (ipykernel)",
      "language": "python",
      "name": "python3"
    },
    "language_info": {
      "codemirror_mode": {
        "name": "ipython",
        "version": 3
      },
      "file_extension": ".py",
      "mimetype": "text/x-python",
      "name": "python",
      "nbconvert_exporter": "python",
      "pygments_lexer": "ipython3",
      "version": "3.9.13"
    },
    "colab": {
      "provenance": []
    }
  },
  "nbformat": 4,
  "nbformat_minor": 5
}